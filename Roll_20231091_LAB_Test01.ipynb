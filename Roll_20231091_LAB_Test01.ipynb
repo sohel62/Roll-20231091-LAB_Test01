{
  "nbformat": 4,
  "nbformat_minor": 0,
  "metadata": {
    "colab": {
      "provenance": [],
      "authorship_tag": "ABX9TyMCxga83pXSrxW84f54800k",
      "include_colab_link": true
    },
    "kernelspec": {
      "name": "python3",
      "display_name": "Python 3"
    },
    "language_info": {
      "name": "python"
    }
  },
  "cells": [
    {
      "cell_type": "markdown",
      "metadata": {
        "id": "view-in-github",
        "colab_type": "text"
      },
      "source": [
        "<a href=\"https://colab.research.google.com/github/sohel62/Roll-20231091-LAB_Test01/blob/main/Roll_20231091_LAB_Test01.ipynb\" target=\"_parent\"><img src=\"https://colab.research.google.com/assets/colab-badge.svg\" alt=\"Open In Colab\"/></a>"
      ]
    },
    {
      "cell_type": "markdown",
      "source": [
        "# Roll: 20231091\n",
        "Mohammad Taslim Mazumder Sohel\n",
        "\n",
        "\n",
        "Q1. Answer to the question no 1"
      ],
      "metadata": {
        "id": "aKRXhw7nPEsq"
      }
    },
    {
      "cell_type": "code",
      "execution_count": 1,
      "metadata": {
        "colab": {
          "base_uri": "https://localhost:8080/"
        },
        "id": "OQANd_p1MgVL",
        "outputId": "1aef28e9-1343-43cf-eb2f-7e6eeadc1bde"
      },
      "outputs": [
        {
          "output_type": "stream",
          "name": "stdout",
          "text": [
            "     Name  Course1  Course2  Course3       Mean\n",
            "0   Omer       90       78       89  85.666667\n",
            "1    Ali       50       75       73  66.000000\n",
            "2  Osama       78       67       80  75.000000\n"
          ]
        }
      ],
      "source": [
        "# import lib for data analysis\n",
        "import numpy as np\n",
        "\n",
        "# import lib for data & array management\n",
        "import pandas as pd\n",
        "\n",
        "#import lib for data visualization\n",
        "import matplotlib.pyplot as plt\n",
        "import seaborn as sns\n",
        "\n",
        "# Create the initial dataframe\n",
        "data = {\n",
        "    'Name': ['Omer', 'Ali', 'Osama'],\n",
        "    'Course1': [90, 50, 78],\n",
        "    'Course2': [78, 75, 67],\n",
        "    'Course3': [89, 73, 80]\n",
        "}\n",
        "df = pd.DataFrame(data)\n",
        "\n",
        "# Calculate the mean mark per course\n",
        "df['Mean'] = df[['Course1', 'Course2', 'Course3']].mean(axis=1)\n",
        "\n",
        "# Display the final dataframe\n",
        "print(\"Created Data Frame With Mean:\", df)\n",
        "\n"
      ]
    },
    {
      "cell_type": "markdown",
      "source": [
        "Q2. Answer to the question no 2"
      ],
      "metadata": {
        "id": "2-nu5OZBPRT3"
      }
    },
    {
      "cell_type": "code",
      "source": [
        "\n",
        "# Load the 'tips' dataset\n",
        "tips = sns.load_dataset('tips')\n",
        "\n",
        "# Display the data structure of tips\n",
        "print(\"Data structure of 'tips' dataset:\")\n",
        "print(tips.info())\n",
        "\n",
        "# Show the first 3 rows of the dataset\n",
        "print(\"\\nFirst 3 rows of the 'tips' dataset:\")\n",
        "print(tips.head(3))"
      ],
      "metadata": {
        "colab": {
          "base_uri": "https://localhost:8080/"
        },
        "id": "zsf-vVKSPWXM",
        "outputId": "66731a0a-ad06-40a3-b380-2d007674ddae"
      },
      "execution_count": 2,
      "outputs": [
        {
          "output_type": "stream",
          "name": "stdout",
          "text": [
            "Data structure of 'tips' dataset:\n",
            "<class 'pandas.core.frame.DataFrame'>\n",
            "RangeIndex: 244 entries, 0 to 243\n",
            "Data columns (total 7 columns):\n",
            " #   Column      Non-Null Count  Dtype   \n",
            "---  ------      --------------  -----   \n",
            " 0   total_bill  244 non-null    float64 \n",
            " 1   tip         244 non-null    float64 \n",
            " 2   sex         244 non-null    category\n",
            " 3   smoker      244 non-null    category\n",
            " 4   day         244 non-null    category\n",
            " 5   time        244 non-null    category\n",
            " 6   size        244 non-null    int64   \n",
            "dtypes: category(4), float64(2), int64(1)\n",
            "memory usage: 7.4 KB\n",
            "None\n",
            "\n",
            "First 3 rows of the 'tips' dataset:\n",
            "   total_bill   tip     sex smoker  day    time  size\n",
            "0       16.99  1.01  Female     No  Sun  Dinner     2\n",
            "1       10.34  1.66    Male     No  Sun  Dinner     3\n",
            "2       21.01  3.50    Male     No  Sun  Dinner     3\n"
          ]
        }
      ]
    },
    {
      "cell_type": "code",
      "source": [
        "# Count the number of feature variables\n",
        "num_features = len(tips.columns) - 1\n",
        "\n",
        "# Get the names of the features\n",
        "features = tips.columns[:-1]\n",
        "\n",
        "# Print the number of feature variables and the features\n",
        "print(\"Feature Variables Total Number:\", num_features)\n",
        "print(\"Features in the Dataset:\", features)"
      ],
      "metadata": {
        "colab": {
          "base_uri": "https://localhost:8080/"
        },
        "id": "2ZdlS_irRP9h",
        "outputId": "942db787-965a-466b-9457-67658498e575"
      },
      "execution_count": 3,
      "outputs": [
        {
          "output_type": "stream",
          "name": "stdout",
          "text": [
            "Feature Variables Total Number: 6\n",
            "Features in the Dataset: Index(['total_bill', 'tip', 'sex', 'smoker', 'day', 'time'], dtype='object')\n"
          ]
        }
      ]
    },
    {
      "cell_type": "code",
      "source": [
        "\n",
        "# Identify categorical variables\n",
        "categorical_vars = tips.select_dtypes(include='category').columns\n",
        "\n",
        "# Count the number of categorical variables\n",
        "num_categorical_vars = len(categorical_vars)\n",
        "\n",
        "# Print the number of categorical variables\n",
        "print(\"Number of categorical variables:\", num_categorical_vars)\n",
        "\n",
        "# Find unique values for each categorical variable\n",
        "for var in categorical_vars:\n",
        "    unique_values = tips[var].unique()\n",
        "    print(f\"Unique values for '{var}':\")\n",
        "    print(unique_values)\n",
        "    print()"
      ],
      "metadata": {
        "colab": {
          "base_uri": "https://localhost:8080/"
        },
        "id": "rXJbqIhpR94A",
        "outputId": "20d4ef7a-f003-44b7-8a48-8ca110cfc1b7"
      },
      "execution_count": 4,
      "outputs": [
        {
          "output_type": "stream",
          "name": "stdout",
          "text": [
            "Number of categorical variables: 4\n",
            "Unique values for 'sex':\n",
            "['Female', 'Male']\n",
            "Categories (2, object): ['Male', 'Female']\n",
            "\n",
            "Unique values for 'smoker':\n",
            "['No', 'Yes']\n",
            "Categories (2, object): ['Yes', 'No']\n",
            "\n",
            "Unique values for 'day':\n",
            "['Sun', 'Sat', 'Thur', 'Fri']\n",
            "Categories (4, object): ['Thur', 'Fri', 'Sat', 'Sun']\n",
            "\n",
            "Unique values for 'time':\n",
            "['Dinner', 'Lunch']\n",
            "Categories (2, object): ['Lunch', 'Dinner']\n",
            "\n"
          ]
        }
      ]
    },
    {
      "cell_type": "code",
      "source": [
        "# Count the number of rows\n",
        "num_rows = tips.shape[0]\n",
        "\n",
        "# Check for missing values\n",
        "missing_values = tips.isnull().sum().any()\n",
        "\n",
        "# Print the number of rows and the presence of missing values\n",
        "print(\"Number of rows:\", num_rows)\n",
        "print(\"Missing values present:\", missing_values)"
      ],
      "metadata": {
        "colab": {
          "base_uri": "https://localhost:8080/"
        },
        "id": "5uKPRUbWSgny",
        "outputId": "bf1e4d09-5634-439d-9191-aaf1c5412f4e"
      },
      "execution_count": 5,
      "outputs": [
        {
          "output_type": "stream",
          "name": "stdout",
          "text": [
            "Number of rows: 244\n",
            "Missing values present: False\n"
          ]
        }
      ]
    },
    {
      "cell_type": "code",
      "source": [
        "# Save the dataset as CSV\n",
        "tips.to_csv('Tips.csv', index=False)\n",
        "\n",
        "# Load the CSV file\n",
        "loaded_tips = pd.read_csv('Tips.csv')\n",
        "\n",
        "# Display the loaded dataset\n",
        "print(\"Loaded Data Set\", loaded_tips)"
      ],
      "metadata": {
        "colab": {
          "base_uri": "https://localhost:8080/"
        },
        "id": "IuDgQupRS5JU",
        "outputId": "d260911d-4d1d-429c-ddf5-b255e9f802de"
      },
      "execution_count": 6,
      "outputs": [
        {
          "output_type": "stream",
          "name": "stdout",
          "text": [
            "     total_bill   tip     sex smoker   day    time  size\n",
            "0         16.99  1.01  Female     No   Sun  Dinner     2\n",
            "1         10.34  1.66    Male     No   Sun  Dinner     3\n",
            "2         21.01  3.50    Male     No   Sun  Dinner     3\n",
            "3         23.68  3.31    Male     No   Sun  Dinner     2\n",
            "4         24.59  3.61  Female     No   Sun  Dinner     4\n",
            "..          ...   ...     ...    ...   ...     ...   ...\n",
            "239       29.03  5.92    Male     No   Sat  Dinner     3\n",
            "240       27.18  2.00  Female    Yes   Sat  Dinner     2\n",
            "241       22.67  2.00    Male    Yes   Sat  Dinner     2\n",
            "242       17.82  1.75    Male     No   Sat  Dinner     2\n",
            "243       18.78  3.00  Female     No  Thur  Dinner     2\n",
            "\n",
            "[244 rows x 7 columns]\n"
          ]
        }
      ]
    },
    {
      "cell_type": "code",
      "source": [
        "# Summary of the dataset\n",
        "summary = tips.describe()\n",
        "\n",
        "# Calculate mean tip for each day\n",
        "mean_tip_per_day = tips.groupby('day')['tip'].mean()\n",
        "\n",
        "# Display the summary and mean tip per day\n",
        "print(\"Summary of the dataset:\")\n",
        "print(summary)\n",
        "print(\"\\nMean tip per day:\")\n",
        "print(mean_tip_per_day)"
      ],
      "metadata": {
        "colab": {
          "base_uri": "https://localhost:8080/"
        },
        "id": "G3SHhjBoTblD",
        "outputId": "6a834fb9-13da-47be-9511-90fdd7e57eb9"
      },
      "execution_count": 7,
      "outputs": [
        {
          "output_type": "stream",
          "name": "stdout",
          "text": [
            "Summary of the dataset:\n",
            "       total_bill         tip        size\n",
            "count  244.000000  244.000000  244.000000\n",
            "mean    19.785943    2.998279    2.569672\n",
            "std      8.902412    1.383638    0.951100\n",
            "min      3.070000    1.000000    1.000000\n",
            "25%     13.347500    2.000000    2.000000\n",
            "50%     17.795000    2.900000    2.000000\n",
            "75%     24.127500    3.562500    3.000000\n",
            "max     50.810000   10.000000    6.000000\n",
            "\n",
            "Mean tip per day:\n",
            "day\n",
            "Thur    2.771452\n",
            "Fri     2.734737\n",
            "Sat     2.993103\n",
            "Sun     3.255132\n",
            "Name: tip, dtype: float64\n"
          ]
        }
      ]
    },
    {
      "cell_type": "markdown",
      "source": [
        "Q3. Answer to the question no 3"
      ],
      "metadata": {
        "id": "zY210HK4UG9_"
      }
    },
    {
      "cell_type": "code",
      "source": [
        "# a Pie Chart from tips data set\n",
        "plt.figure(figsize=(8, 6))\n",
        "plt.pie(tips['day'].value_counts(), labels=tips['day'].unique(), autopct='%1.1f%%')\n",
        "plt.title('Distribution of Tips by Day (Pie Chart)')\n",
        "plt.show()"
      ],
      "metadata": {
        "colab": {
          "base_uri": "https://localhost:8080/",
          "height": 521
        },
        "id": "po8FgP-UUTT-",
        "outputId": "956fb6b9-0145-4635-a38d-b31f32fb0e29"
      },
      "execution_count": 10,
      "outputs": [
        {
          "output_type": "display_data",
          "data": {
            "text/plain": [
              "<Figure size 800x600 with 1 Axes>"
            ],
            "image/png": "[encoded data removed]"
          },
          "metadata": {}
        }
      ]
    },
    {
      "cell_type": "code",
      "source": [
        "# Calculate mean tip for each day\n",
        "mean_tip_per_day = tips.groupby('day')['tip'].mean().reset_index()\n",
        "\n",
        "# Create a Barplot of mean tip per day\n",
        "plt.figure(figsize=(8, 6))\n",
        "sns.barplot(x='day', y='tip', data=mean_tip_per_day)\n",
        "plt.title('Mean Tip per Day')\n",
        "plt.xlabel('Day')\n",
        "plt.ylabel('Mean Tip')\n",
        "plt.show()"
      ],
      "metadata": {
        "colab": {
          "base_uri": "https://localhost:8080/",
          "height": 564
        },
        "id": "hep7EzePVXex",
        "outputId": "ca70b904-a61b-44b7-db27-a95807990539"
      },
      "execution_count": 13,
      "outputs": [
        {
          "output_type": "display_data",
          "data": {
            "text/plain": [
              "<Figure size 800x600 with 1 Axes>"
            ],
            "image/png": "[encoded data removed]"
          },
          "metadata": {}
        }
      ]
    },
    {
      "cell_type": "markdown",
      "source": [
        "**Which plot is better and why?**\n",
        "\n",
        "The Pie Chart is better.\n",
        "It is easier to compare values with each other. Easy to understand by see the chart."
      ],
      "metadata": {
        "id": "GfanDm4_aKPL"
      }
    },
    {
      "cell_type": "code",
      "source": [
        "# Create two scatterplots\n",
        "plt.figure(figsize=(12, 6))\n",
        "\n",
        "# Scatterplot 1\n",
        "plt.subplot(1, 2, 1)\n",
        "sns.scatterplot(x='Course1', y='Course2', data=df)\n",
        "plt.title('Scatterplot 1')\n",
        "plt.xlabel('Course 1')\n",
        "plt.ylabel('Course 2')\n",
        "plt.xticks(ticks=[50, 60, 70, 80, 90, 100])\n",
        "plt.yticks(ticks=[50, 60, 70, 80, 90, 100])\n",
        "\n",
        "# Scatterplot 2\n",
        "plt.subplot(1, 2, 2)\n",
        "sns.scatterplot(x='Course2', y='Course3', data=df)\n",
        "plt.title('Scatterplot 2')\n",
        "plt.xlabel('Course 2')\n",
        "plt.ylabel('Course 3')\n",
        "plt.xticks(ticks=[50, 60, 70, 80, 90, 100])\n",
        "plt.yticks(ticks=[50, 60, 70, 80, 90, 100])\n",
        "\n",
        "plt.tight_layout()\n",
        "plt.show()"
      ],
      "metadata": {
        "colab": {
          "base_uri": "https://localhost:8080/",
          "height": 570
        },
        "id": "LPq6OEUAaq6p",
        "outputId": "dfec93e1-e322-4b1e-d6e5-add3e0d9c91c"
      },
      "execution_count": 18,
      "outputs": [
        {
          "output_type": "display_data",
          "data": {
            "text/plain": [
              "<Figure size 1200x600 with 2 Axes>"
            ],
            "image/png": "[encoded data removed]"
          },
          "metadata": {}
        }
      ]
    }
  ]
}